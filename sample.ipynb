{
 "cells": [
  {
   "cell_type": "code",
   "execution_count": 1,
   "id": "cab5c1db-a4ad-44db-a233-f16d38b83d47",
   "metadata": {},
   "outputs": [
    {
     "name": "stdout",
     "output_type": "stream",
     "text": [
      "Neural network trained and model broadcasted to each reader.\n"
     ]
    }
   ],
   "source": [
    "import numpy as np\n",
    "from sklearn.neural_network import MLPClassifier\n",
    "\n",
    "# Define a simple Reader class\n",
    "class Reader:\n",
    "    def __init__(self, id):\n",
    "        self.id = id\n",
    "        self.weight = 0\n",
    "        self.cost = 0\n",
    "        self.avg_weight_neighbors = 0\n",
    "        self.avg_cost_neighbors = 0\n",
    "        self.status = 0  # Target output (0 for OFF, 1 for ACTIVE)\n",
    "\n",
    "# Define the machine learning stage\n",
    "class MachineLearningStage:\n",
    "    def __init__(self, num_readers, alpha):\n",
    "        self.num_readers = num_readers\n",
    "        self.alpha = alpha\n",
    "        self.readers = [Reader(i) for i in range(num_readers)]\n",
    "        self.X = []\n",
    "        self.y = []\n",
    "\n",
    "    def generate_sample_data(self):\n",
    "        np.random.seed(42)  # For reproducibility\n",
    "        for reader in self.readers:\n",
    "            reader.weight = np.random.randint(1, 10)\n",
    "            reader.cost = reader.weight * self.alpha\n",
    "            reader.avg_weight_neighbors = np.random.randint(1, 10)\n",
    "            reader.avg_cost_neighbors = reader.avg_weight_neighbors * self.alpha\n",
    "            reader.status = np.random.choice([0, 1])\n",
    "\n",
    "    def collect_training_data(self):\n",
    "        self.X = np.array([(reader.weight, reader.cost, reader.avg_weight_neighbors, reader.avg_cost_neighbors) for reader in self.readers])\n",
    "        self.y = np.array([reader.status for reader in self.readers])\n",
    "\n",
    "    def train_neural_network(self):\n",
    "        self.nn_model = MLPClassifier(hidden_layer_sizes=(16, 16), activation='relu', solver='adam', max_iter=500, random_state=42)\n",
    "        self.nn_model.fit(self.X, self.y)\n",
    "\n",
    "    def broadcast_trained_weights(self):\n",
    "        return self.nn_model\n",
    "\n",
    "# Simulation parameters\n",
    "num_readers = 10\n",
    "alpha = 0.5\n",
    "\n",
    "# Run machine learning stage\n",
    "ml_stage = MachineLearningStage(num_readers, alpha)\n",
    "ml_stage.generate_sample_data()\n",
    "ml_stage.collect_training_data()\n",
    "ml_stage.train_neural_network()\n",
    "trained_model = ml_stage.broadcast_trained_weights()\n",
    "\n",
    "print(\"Neural network trained and model broadcasted to each reader.\")\n"
   ]
  },
  {
   "cell_type": "code",
   "execution_count": 2,
   "id": "c0456f4d-0bfa-441c-9db6-e9e273f7ccd5",
   "metadata": {},
   "outputs": [
    {
     "name": "stdout",
     "output_type": "stream",
     "text": [
      "Reader 0: Weight=9, Cost=4.5, AvgWeightNeighbors=3, AvgCostNeighbors=1.5, Status=ACTIVE\n",
      "Reader 1: Weight=5, Cost=2.5, AvgWeightNeighbors=3, AvgCostNeighbors=1.5, Status=ACTIVE\n",
      "Reader 2: Weight=7, Cost=3.5, AvgWeightNeighbors=5, AvgCostNeighbors=2.5, Status=ACTIVE\n",
      "Reader 3: Weight=9, Cost=4.5, AvgWeightNeighbors=7, AvgCostNeighbors=3.5, Status=LOCK\n",
      "Reader 4: Weight=2, Cost=1.0, AvgWeightNeighbors=4, AvgCostNeighbors=2.0, Status=ACTIVE\n",
      "Reader 5: Weight=9, Cost=4.5, AvgWeightNeighbors=2, AvgCostNeighbors=1.0, Status=ACTIVE\n",
      "Reader 6: Weight=9, Cost=4.5, AvgWeightNeighbors=5, AvgCostNeighbors=2.5, Status=ACTIVE\n",
      "Reader 7: Weight=2, Cost=1.0, AvgWeightNeighbors=4, AvgCostNeighbors=2.0, Status=ACTIVE\n",
      "Reader 8: Weight=7, Cost=3.5, AvgWeightNeighbors=8, AvgCostNeighbors=4.0, Status=LOCK\n",
      "Reader 9: Weight=3, Cost=1.5, AvgWeightNeighbors=1, AvgCostNeighbors=0.5, Status=ACTIVE\n",
      "Reader 0 status: ACTIVE\n",
      "Reader 1 status: ACTIVE\n",
      "Reader 2 status: ACTIVE\n",
      "Reader 3 status: LOCK\n",
      "Reader 4 status: ACTIVE\n",
      "Reader 5 status: ACTIVE\n",
      "Reader 6 status: ACTIVE\n",
      "Reader 7 status: ACTIVE\n",
      "Reader 8 status: LOCK\n",
      "Reader 9 status: ACTIVE\n"
     ]
    }
   ],
   "source": [
    "import numpy as np\n",
    "\n",
    "class ApplicationReader:\n",
    "    def __init__(self, id, alpha, trained_model):\n",
    "        self.id = id\n",
    "        self.alpha = alpha\n",
    "        self.status = \"LOCK\"\n",
    "        self.weight = np.random.randint(1, 10)\n",
    "        self.cost = self.weight * self.alpha\n",
    "        self.avg_weight_neighbors = np.random.randint(1, 10)\n",
    "        self.avg_cost_neighbors = self.avg_weight_neighbors * self.alpha\n",
    "        self.nn_model = trained_model\n",
    "\n",
    "    def prepare_features(self):\n",
    "        return np.array([self.weight, self.cost, self.avg_weight_neighbors, self.avg_cost_neighbors]).reshape(1, -1)\n",
    "\n",
    "    def predict_activation(self):\n",
    "        return self.nn_model.predict(self.prepare_features())[0]\n",
    "\n",
    "# Initialize application readers\n",
    "application_readers = [ApplicationReader(i, alpha, trained_model) for i in range(num_readers)]\n",
    "\n",
    "# Simulate the activation decision process\n",
    "for reader in application_readers:\n",
    "    activation = reader.predict_activation()\n",
    "    if activation == 1:\n",
    "        reader.status = \"ACTIVE\"\n",
    "    print(f\"Reader {reader.id}: Weight={reader.weight}, Cost={reader.cost}, \"\n",
    "          f\"AvgWeightNeighbors={reader.avg_weight_neighbors}, AvgCostNeighbors={reader.avg_cost_neighbors}, \"\n",
    "          f\"Status={reader.status}\")\n",
    "\n",
    "# Check the final status of each reader\n",
    "for reader in application_readers:\n",
    "    print(f\"Reader {reader.id} status: {reader.status}\")\n"
   ]
  },
  {
   "cell_type": "code",
   "execution_count": null,
   "id": "5c4f4140-19d3-4273-abf7-6613ccd505d1",
   "metadata": {},
   "outputs": [],
   "source": []
  }
 ],
 "metadata": {
  "kernelspec": {
   "display_name": "Python 3 (ipykernel)",
   "language": "python",
   "name": "python3"
  },
  "language_info": {
   "codemirror_mode": {
    "name": "ipython",
    "version": 3
   },
   "file_extension": ".py",
   "mimetype": "text/x-python",
   "name": "python",
   "nbconvert_exporter": "python",
   "pygments_lexer": "ipython3",
   "version": "3.11.4"
  }
 },
 "nbformat": 4,
 "nbformat_minor": 5
}
